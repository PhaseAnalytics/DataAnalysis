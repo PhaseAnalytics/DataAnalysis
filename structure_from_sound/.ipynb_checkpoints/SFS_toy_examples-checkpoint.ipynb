{
 "cells": [
  {
   "cell_type": "code",
   "execution_count": null,
   "metadata": {
    "collapsed": true
   },
   "outputs": [],
   "source": [
    "import pandas as pd\n",
    "import scipy.io.wavfile\n",
    "import scipy.signal\n",
    "import numpy as np"
   ]
  },
  {
   "cell_type": "code",
   "execution_count": null,
   "metadata": {
    "collapsed": true
   },
   "outputs": [],
   "source": [
    "import matplotlib.pyplot as plt\n",
    "import seaborn as sns\n",
    "%matplotlib inline\n",
    "\n",
    "speed_sound = 340.0"
   ]
  },
  {
   "cell_type": "code",
   "execution_count": null,
   "metadata": {},
   "outputs": [],
   "source": [
    "'''\n",
    "Setting up the toy example:\n",
    "Four Sensors are placed in a square five meters on a side\n",
    "\n",
    "The Sources are placed 20 meters away at hours on a clock, e.g., every 30 degrees\n",
    "'''\n",
    "Sensor1 = [5,5]\n",
    "Sensor2 = [5, -5]\n",
    "Sensor3 = [-5, -5]\n",
    "Sensor4 = [-5, 5]\n",
    "Sensors = np.array([Sensor1, Sensor2, Sensor3, Sensor4])\n",
    "Sources = np.array([[20 * np.cos(i * np.pi/6), 20 * np.sin(i * np.pi/6)] for i in range(12)])\n",
    "#Sources = np.array([[90,90], [95,92], [87,90], [92,85]])\n",
    "D = np.zeros((len(Sensors), len(Sources)))\n",
    "for i in range(len(Sensors)):\n",
    "    x = Sensors[i]\n",
    "    for j in range(len(Sources)):\n",
    "        a = Sources[j]\n",
    "        D[i,j] = np.linalg.norm(x-a, 2)\n",
    "#D[i,j] contains the time delay that sound from source j takes to reach Sensor i        "
   ]
  },
  {
   "cell_type": "code",
   "execution_count": null,
   "metadata": {},
   "outputs": [],
   "source": [
    "#dt is the relative delay, which reference to the first sensor given by Eq. 7 in SfS\n",
    "T = D / speed_sound\n",
    "dt = T[1:] - T[0,:]"
   ]
  },
  {
   "cell_type": "code",
   "execution_count": null,
   "metadata": {},
   "outputs": [],
   "source": [
    "#This implements Eq. 18 from SfS paper. \n",
    "#u, s, v are denoted u, v, w.transpose in SfS paper\n",
    "u, s , v = np.linalg.svd(dt, full_matrices=True)\n",
    "#As mentioned in SfS only need first two diagnol terms of s..\n",
    "S = np.diag(s[:2])\n",
    "#..and first two columns of w.transpose, which is first two rows of v\n",
    "v = v[0:2,:]\n",
    "#v = v\n",
    "print(u)\n",
    "print(\"--\")\n",
    "print(S)\n",
    "print(\"--\")\n",
    "##-1 from Eq. 13 in SFS\n",
    "print -1* speed_sound* np.matmul(u[:,:2],S)\n",
    "print(\"--\")\n",
    "print(v)"
   ]
  },
  {
   "cell_type": "code",
   "execution_count": null,
   "metadata": {},
   "outputs": [],
   "source": [
    "print(np.rad2deg(np.arccos(v[0, :])))\n",
    "print(np.rad2deg(np.arcsin(v[1, :])))\n",
    "\n",
    "print((np.arccos(v[0, :])))\n",
    "print((np.arcsin(v[1, :])))"
   ]
  },
  {
   "cell_type": "code",
   "execution_count": null,
   "metadata": {},
   "outputs": [],
   "source": [
    "#This is the cost function, which is the term trying to minimize in Eq. 22 of SfS\n",
    "def Fx(c11, c12, c21, c22):\n",
    "    X = ((c11**2 + c21**2) * v[0,:]**2) + ((c12**2 + c22**2) * v[1,:]**2)\\\n",
    "      + ((2*(c11*c12 + c21*c22))* (v[0]*v[1]))\n",
    "    X = X - np.ones((X.shape))    \n",
    "    return X"
   ]
  },
  {
   "cell_type": "code",
   "execution_count": null,
   "metadata": {},
   "outputs": [],
   "source": [
    "#This is the derivative of the cost function. \n",
    "#For simplicity each partial derivative is written separately. \n",
    "#The v matrix is not passed to this function, rather it is expected to be a global variable. \n",
    "def df(c11, c12, c21, c22):\n",
    "    jc11 = 2.0 * ((c11 * (v[0, :]**2)) + (c12 * (v[0,:] * v[1,:])))\n",
    "    jc12 = 2.0 * ((c12 * (v[1, :]**2)) + (c11 * (v[0,:] * v[1,:])))\n",
    "    jc21 = 2.0 * ((c21 * (v[0, :]**2)) + (c22 * (v[0,:] * v[1,:])))\n",
    "    jc22 = 2.0 * ((c22 * (v[1, :]**2)) + (c21 * (v[0,:] * v[1,:])))\n",
    "    return (jc11, jc12, jc21, jc22)"
   ]
  },
  {
   "cell_type": "code",
   "execution_count": null,
   "metadata": {
    "scrolled": true
   },
   "outputs": [],
   "source": [
    "#Initialize the C matrix (Eq. 20) to the identity matrix\n",
    "C = np.eye(2)\n",
    "c11 = C[0,0]\n",
    "c12 = C[0,1]\n",
    "c21 = C[1,0]\n",
    "c22 = C[1,1]\n",
    "#Set learning rate, max number of iterations, etc. \n",
    "#Have not really played around to see how these impact results. \n",
    "#i.e., can we get away with fewer iterations and converge 'close enough'\n",
    "gamma = 0.05\n",
    "precision = 1e-9\n",
    "num_iter = 1000\n",
    "it = 0\n",
    "fvals = [100]\n",
    "while it < num_iter and fvals[-1] > precision:\n",
    "    it += 1\n",
    "    #Compute cost function\n",
    "    X = Fx(c11, c12, c21, c22)\n",
    "    #Compute partial derivatives\n",
    "    (jc11, jc12, jc21, jc22) = df(c11, c12, c21, c22)\n",
    "    Jc = np.array([jc11, jc12, jc21, jc22])\n",
    "    #fx is the gradient at the current step\n",
    "    fx = np.matmul(Jc, X)\n",
    "    c11 = c11 - gamma * fx[0]\n",
    "    c12 = c12 - gamma * fx[1]\n",
    "    c21 = c21 - gamma * fx[2]\n",
    "    c22 = c22 - gamma * fx[3]\n",
    "    #ffx is the current error. I don't think this is correct actually, this should only be a function of Fx I believe\n",
    "    ffx = np.dot(fx, fx)\n",
    "    fvals.append(ffx)\n",
    "    print(\"iter: %s\\tc11:%s, c12:%s, c21:%s, c22:%s\\tFx:%s\" % (it, c11, c12, c21, c22, fvals[-1]))"
   ]
  },
  {
   "cell_type": "code",
   "execution_count": null,
   "metadata": {},
   "outputs": [],
   "source": [
    "# Now compute gamma prime from Eq. 20\n",
    "C = np.array([[c11, c12], [c21, c22]])\n",
    "print (C)\n",
    "print (v)\n",
    "print np.matmul(C, v)\n",
    "#nv is gamma prime from Eq. 20\n",
    "nv = np.matmul(C, v)\n",
    "print(\"----\")\n",
    "print(np.rad2deg(np.arccos(v[0, :]))) \n",
    "print(np.rad2deg(np.arcsin(v[1, :]))) \n",
    "print(\"---\")\n",
    "print(np.rad2deg(np.arccos(nv[0, :]))) \n",
    "print(np.rad2deg(np.arcsin(nv[1, :]))) \n",
    "print(\"----\")\n",
    "print(np.rad2deg([x if x > 0 else x + np.pi for x in np.arcsin(nv[1, :])]))\n",
    "print(np.rad2deg(np.arcsin([x if x>=0 else -x for x in nv[1, :]])))\n",
    "#Don't worry too much if the degrees are inaccurate because arccos and arcsin \n",
    "#do not do a good job of determining the correct quadrant. We don't use the angles anyway. "
   ]
  },
  {
   "cell_type": "markdown",
   "metadata": {},
   "source": [
    "# Plot SfS Estimate"
   ]
  },
  {
   "cell_type": "code",
   "execution_count": null,
   "metadata": {
    "collapsed": true
   },
   "outputs": [],
   "source": [
    "def circle(x, y, radius=0.15):\n",
    "    from matplotlib.patches import Circle\n",
    "    from matplotlib.patheffects import withStroke\n",
    "    circle = Circle((x, y), radius, clip_on=False, zorder=10, linewidth=1,\n",
    "                    edgecolor='black', facecolor=(0, 0, 0, .0125),\n",
    "                    path_effects=[withStroke(linewidth=5, foreground='w')])\n",
    "    ax.add_artist(circle)\n",
    "\n",
    "\n",
    "def text(x, y, text):\n",
    "    ax.text(x, y, text, backgroundcolor=\"white\",\n",
    "            ha='center', va='top', weight='bold', color='blue')"
   ]
  },
  {
   "cell_type": "code",
   "execution_count": null,
   "metadata": {},
   "outputs": [],
   "source": []
  },
  {
   "cell_type": "code",
   "execution_count": null,
   "metadata": {},
   "outputs": [],
   "source": [
    "fig = plt.figure(figsize=(10,10))\n",
    "ax = fig.add_subplot(111, autoscale_on=False, xlim=(-7.5, 7.5), ylim=(-7.5, 7.5))\n",
    "\n",
    "#X contains the estimate of the Guardain locations. \n",
    "#x0 is the reference sensor placed at 0,0\n",
    "x0 = np.zeros((1,2))\n",
    "#x1 contains the other guardians relative to x0, this is from Eq. 20 for X prime\n",
    "x1 =  -1* speed_sound* np.matmul(u[:,:2],np.matmul(S, np.linalg.inv(C)))\n",
    "X = np.concatenate((x0,x1), axis=0)\n",
    "\n",
    "#Plot the Guardians\n",
    "ind = 0\n",
    "for y,x in X:\n",
    "    circle(x,y)\n",
    "    text(x,(y-0.25),\"Guardian {}\".format(ind) )\n",
    "    ind += 1\n",
    "\n",
    "#Here we plot arrows pointing towards the estimated sound locations starting from the reference guardian\n",
    "c = plt.cm.Paired\n",
    "ind = 0\n",
    "for ind in range(nv.shape[1]):\n",
    "    #NOTE, not sure why but the x,y coordinates are switched. Take y as the first and x as the second. \n",
    "    newy = min(nv[0,ind] * 5, 10)\n",
    "    newx = min(nv[1,ind] * 5, 10)\n",
    "    color = c(ind)#[ind%4]\n",
    "    print newx, newy\n",
    "    ax.annotate(' ', xy=(newx, newy), xycoords='data',\n",
    "            xytext=(0, 0), textcoords='data',\n",
    "            weight=500, color=color,\n",
    "            arrowprops=dict(width=16, headwidth=32,\n",
    "                            connectionstyle=\"arc3\",\n",
    "                            color=color)\n",
    "           )    \n",
    "\n",
    "ax.set_title(\"Estimated Guardian and Sound Source Direction Using Structure From Sound\")     \n",
    "\n",
    "#Next plot the ground truth    \n",
    "fig = plt.figure(figsize=(10,10))\n",
    "\n",
    "ax = fig.add_subplot(111, autoscale_on=False, xlim=(-20, 20), ylim=(-20, 20))\n",
    "\n",
    "ind = 0\n",
    "for ind in range(Sources.shape[0]):\n",
    "    newx = Sources[ind,0]  #+ Guardians[0,0]\n",
    "    newy = Sources[ind,1]  #+ Guardians[0,1]\n",
    "    color = c(ind)#[ind%4]\n",
    "    circle(newx , newy)\n",
    "    text(newx, newy-0.25, \"Source {}\".format(ind))\n",
    "    ax.annotate(' ', xy=(newx * 0.5, newy * 0.5), xycoords='data',\n",
    "            #xytext=(Guardians[0,0], Guardians[0,1]), textcoords='data',\n",
    "            xytext=(0,0), textcoords='data',\n",
    "            weight=500, color=color,\n",
    "            arrowprops=dict(width=16, headwidth=32,\n",
    "                            connectionstyle=\"arc3\",\n",
    "                            color=color)\n",
    "           )    \n",
    "\n",
    "ind = 0\n",
    "for x,y in Guardians:\n",
    "    circle(x,y)\n",
    "    text(x,y-0.25,\"Guardian {}\".format(ind) )\n",
    "    ind += 1\n",
    "\n",
    "    \n",
    "ax.set_title(\"Ground Truth Guardian and Sound Source Setup\")\n",
    "\n"
   ]
  },
  {
   "cell_type": "markdown",
   "metadata": {},
   "source": [
    "# Now Find Event Locations"
   ]
  },
  {
   "cell_type": "code",
   "execution_count": null,
   "metadata": {},
   "outputs": [],
   "source": [
    "'''\n",
    "This was taking a try at the source distance estimation from SfS\n",
    "\n",
    "The cost function and derivative calculations are not correct. \n",
    "'''"
   ]
  },
  {
   "cell_type": "code",
   "execution_count": null,
   "metadata": {},
   "outputs": [],
   "source": [
    "\n",
    "def Fxa(A, X, delta):\n",
    "    fxa = np.zeros(delta.shape)\n",
    "    for i in range(X.shape[0]):\n",
    "        x = X[i, :] #/ speed_sound\n",
    "        for j in range(A.shape[0]):\n",
    "            a = A[j, :] #/ speed_sound\n",
    "            x_a_norm = np.linalg.norm(x-a, 2)\n",
    "            a_norm = np.linalg.norm(a, 2)\n",
    "            fxa[i, j]= (x_a_norm - a_norm - speed_sound * delta[i,j])\n",
    "            \n",
    "    return fxa"
   ]
  },
  {
   "cell_type": "code",
   "execution_count": null,
   "metadata": {},
   "outputs": [],
   "source": [
    "def Jxa(A, X, delta):\n",
    "    Jx = np.zeros((X.shape[0], A.shape[0]))\n",
    "    Jy = np.zeros((X.shape[0], A.shape[0]))\n",
    "    Ja = np.zeros((A.shape[0], X.shape[0]))\n",
    "    Jb = np.zeros((A.shape[0], X.shape[0]))\n",
    "    M = Fxa(A, X, delta)\n",
    "    for i in range(X.shape[0]):\n",
    "        (x, y) = X[i, :] #/ speed_sound\n",
    "        for j in range(A.shape[0]):\n",
    "            (a, b) = A[j, :] #/ speed_sound\n",
    "            xa = (x - a) / np.sqrt((x - a)**2 + (y - b)**2)\n",
    "            yb = (y - b) / np.sqrt((x - a)**2 + (y - b)**2)\n",
    "            ab = 1 / np.sqrt(a**2 + b**2)\n",
    "            dx = 2 * M[i,j] * xa\n",
    "            dy = 2 * M[i,j] * yb\n",
    "            da = -2 * M[i, j] * (xa +  a*ab )\n",
    "            db = -2 * M[i, j] * (yb +  b*ab )\n",
    "            Jx[i, j] = dx\n",
    "            Jy[i, j] = dy\n",
    "            Ja[j, i] = da\n",
    "            Jb[j, i] = db      \n",
    "    return(Jx, Jy, Ja, Jb)"
   ]
  },
  {
   "cell_type": "code",
   "execution_count": null,
   "metadata": {
    "collapsed": true
   },
   "outputs": [],
   "source": [
    "X = -1 * speed_sound* np.matmul(u[:,:2],np.matmul(S, np.linalg.inv(C)))\n",
    "mmax = np.max(np.linalg.norm(X, 2, axis=1)**2)\n",
    "A = 5*mmax * nv\n",
    "\n"
   ]
  },
  {
   "cell_type": "code",
   "execution_count": null,
   "metadata": {},
   "outputs": [],
   "source": [
    "gamma = 0.005\n",
    "precision = 1e-9\n",
    "num_iter = 1000\n",
    "it = 0\n",
    "fvals = [100]\n",
    "\n",
    "#X is the estimate of the Guardian locations\n",
    "X = -1 * speed_sound* np.matmul(u[:,:2],np.matmul(S, np.linalg.inv(C)))\n",
    "mmax = np.max(np.linalg.norm(X, 2, axis=1)**2)\n",
    "#A is the initial estimate of the source location, which is given by Eq. 24\n",
    "A = 5*mmax * nv\n",
    "\n",
    "\n",
    "while it < num_iter and fvals[-1] > precision:\n",
    "    it +=1\n",
    "\n",
    "    (Jx, Jy, Ja, Jb) = Jxa(A.T, X, dt)\n",
    "    fxa = Fxa(A.T, X, dt)\n",
    "    nfxa = fxa ** 2\n",
    "    dx = np.array([-gamma * np.dot(Jx[i,:],nfxa[i,:]) for i in range(Jx.shape[0])])\n",
    "    dy = np.array([-gamma * np.dot(Jy[i, :],nfxa[i, :]) for i in range(Jy.shape[0])])\n",
    "    da = np.array([-gamma * np.dot(Ja[i,:],nfxa[:,i]) for i in range(Ja.shape[0])])\n",
    "    db = np.array([-gamma * np.dot(Jb[i,:],nfxa[:,i]) for i in range(Jb.shape[0])])\n",
    "    dX = np.stack((dx,dy), 0)\n",
    "    dA = np.stack((da, db), 0)\n",
    "    X += dX.T #speed_sound * dX.T\n",
    "    A += dA # speed_sound * dA\n",
    "    \n",
    "    if it % 10 == 1:\n",
    "        print \"fxa\"\n",
    "        print nfxa\n",
    "        print \"Change in X\"\n",
    "        print dX.T\n",
    "        print \"Change in A\"\n",
    "        print dA.T\n",
    "        print \"Current X\"\n",
    "        print X \n",
    "        print \"Current A\"\n",
    "        print A.T \n",
    "    ffx = np.linalg.norm(fxa, 2)\n",
    "    fvals.append(ffx)\n",
    "    print(\"iter: %s\\tFx:%s\" % (it, fvals[-1]))"
   ]
  },
  {
   "cell_type": "code",
   "execution_count": null,
   "metadata": {},
   "outputs": [],
   "source": [
    "print Jx\n",
    "print \"---\"\n",
    "print Jy\n",
    "print \"---\"\n",
    "print Ja\n",
    "print \"---\"\n",
    "print Jb\n",
    "\n"
   ]
  },
  {
   "cell_type": "code",
   "execution_count": null,
   "metadata": {},
   "outputs": [],
   "source": [
    "print dt * speed_sound"
   ]
  },
  {
   "cell_type": "code",
   "execution_count": null,
   "metadata": {},
   "outputs": [],
   "source": [
    "print X"
   ]
  },
  {
   "cell_type": "code",
   "execution_count": null,
   "metadata": {},
   "outputs": [],
   "source": [
    "print A.T"
   ]
  },
  {
   "cell_type": "code",
   "execution_count": null,
   "metadata": {},
   "outputs": [],
   "source": [
    "print nfxa"
   ]
  },
  {
   "cell_type": "code",
   "execution_count": null,
   "metadata": {},
   "outputs": [],
   "source": [
    "(x,y) = X[0,:]\n",
    "print x,y"
   ]
  },
  {
   "cell_type": "code",
   "execution_count": null,
   "metadata": {},
   "outputs": [],
   "source": [
    "(a,b) = A[:,0]\n",
    "print a,b"
   ]
  },
  {
   "cell_type": "code",
   "execution_count": null,
   "metadata": {},
   "outputs": [],
   "source": [
    "print np.linalg.norm(X[0,:]-A[:,0].T, 2)\n",
    "print np.linalg.norm(A[:,0], 2)\n",
    "print dt[0,0] * speed_sound"
   ]
  },
  {
   "cell_type": "code",
   "execution_count": null,
   "metadata": {
    "collapsed": true
   },
   "outputs": [],
   "source": []
  }
 ],
 "metadata": {
  "kernelspec": {
   "display_name": "Python 2",
   "language": "python",
   "name": "python2"
  },
  "language_info": {
   "codemirror_mode": {
    "name": "ipython",
    "version": 2
   },
   "file_extension": ".py",
   "mimetype": "text/x-python",
   "name": "python",
   "nbconvert_exporter": "python",
   "pygments_lexer": "ipython2",
   "version": "2.7.13"
  }
 },
 "nbformat": 4,
 "nbformat_minor": 2
}
